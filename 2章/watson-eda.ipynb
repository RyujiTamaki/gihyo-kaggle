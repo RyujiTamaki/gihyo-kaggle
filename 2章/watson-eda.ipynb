{
 "cells": [
  {
   "cell_type": "code",
   "execution_count": 1,
   "id": "d8385233",
   "metadata": {
    "_cell_guid": "b1076dfc-b9ad-4769-8c92-a6c4dae69d19",
    "_uuid": "8f2839f25d086af736a60e9eeb907d3b93b6e0e5",
    "execution": {
     "iopub.execute_input": "2021-08-21T13:45:49.624338Z",
     "iopub.status.busy": "2021-08-21T13:45:49.619319Z",
     "iopub.status.idle": "2021-08-21T13:45:49.630483Z",
     "shell.execute_reply": "2021-08-21T13:45:49.631014Z",
     "shell.execute_reply.started": "2021-08-21T13:42:53.396348Z"
    },
    "papermill": {
     "duration": 0.030371,
     "end_time": "2021-08-21T13:45:49.631324",
     "exception": false,
     "start_time": "2021-08-21T13:45:49.600953",
     "status": "completed"
    },
    "tags": []
   },
   "outputs": [
    {
     "name": "stdout",
     "output_type": "stream",
     "text": [
      "/kaggle/input/contradictory-my-dear-watson/sample_submission.csv\n",
      "/kaggle/input/contradictory-my-dear-watson/train.csv\n",
      "/kaggle/input/contradictory-my-dear-watson/test.csv\n"
     ]
    }
   ],
   "source": [
    "# This Python 3 environment comes with many helpful analytics libraries installed\n",
    "# It is defined by the kaggle/python Docker image: https://github.com/kaggle/docker-python\n",
    "# For example, here's several helpful packages to load\n",
    "\n",
    "import numpy as np # linear algebra\n",
    "import pandas as pd # data processing, CSV file I/O (e.g. pd.read_csv)\n",
    "\n",
    "# Input data files are available in the read-only \"../input/\" directory\n",
    "# For example, running this (by clicking run or pressing Shift+Enter) will list all files under the input directory\n",
    "\n",
    "import os\n",
    "for dirname, _, filenames in os.walk('/kaggle/input'):\n",
    "    for filename in filenames:\n",
    "        print(os.path.join(dirname, filename))\n",
    "\n",
    "# You can write up to 20GB to the current directory (/kaggle/working/) that gets preserved as output when you create a version using \"Save & Run All\" \n",
    "# You can also write temporary files to /kaggle/temp/, but they won't be saved outside of the current session"
   ]
  },
  {
   "cell_type": "code",
   "execution_count": 2,
   "id": "96c2dfca",
   "metadata": {
    "execution": {
     "iopub.execute_input": "2021-08-21T13:45:49.654053Z",
     "iopub.status.busy": "2021-08-21T13:45:49.653376Z",
     "iopub.status.idle": "2021-08-21T13:45:49.979398Z",
     "shell.execute_reply": "2021-08-21T13:45:49.978918Z",
     "shell.execute_reply.started": "2021-08-21T13:42:53.415497Z"
    },
    "papermill": {
     "duration": 0.3392,
     "end_time": "2021-08-21T13:45:49.979552",
     "exception": false,
     "start_time": "2021-08-21T13:45:49.640352",
     "status": "completed"
    },
    "tags": []
   },
   "outputs": [
    {
     "name": "stdout",
     "output_type": "stream",
     "text": [
      "train size: 12120\n",
      "test size: 5195\n"
     ]
    },
    {
     "data": {
      "text/html": [
       "<div>\n",
       "<style scoped>\n",
       "    .dataframe tbody tr th:only-of-type {\n",
       "        vertical-align: middle;\n",
       "    }\n",
       "\n",
       "    .dataframe tbody tr th {\n",
       "        vertical-align: top;\n",
       "    }\n",
       "\n",
       "    .dataframe thead th {\n",
       "        text-align: right;\n",
       "    }\n",
       "</style>\n",
       "<table border=\"1\" class=\"dataframe\">\n",
       "  <thead>\n",
       "    <tr style=\"text-align: right;\">\n",
       "      <th></th>\n",
       "      <th>id</th>\n",
       "      <th>premise</th>\n",
       "      <th>hypothesis</th>\n",
       "      <th>lang_abv</th>\n",
       "      <th>language</th>\n",
       "      <th>label</th>\n",
       "    </tr>\n",
       "  </thead>\n",
       "  <tbody>\n",
       "    <tr>\n",
       "      <th>0</th>\n",
       "      <td>5130fd2cb5</td>\n",
       "      <td>and these comments were considered in formulat...</td>\n",
       "      <td>The rules developed in the interim were put to...</td>\n",
       "      <td>en</td>\n",
       "      <td>English</td>\n",
       "      <td>0</td>\n",
       "    </tr>\n",
       "    <tr>\n",
       "      <th>1</th>\n",
       "      <td>5b72532a0b</td>\n",
       "      <td>These are issues that we wrestle with in pract...</td>\n",
       "      <td>Practice groups are not permitted to work on t...</td>\n",
       "      <td>en</td>\n",
       "      <td>English</td>\n",
       "      <td>2</td>\n",
       "    </tr>\n",
       "    <tr>\n",
       "      <th>2</th>\n",
       "      <td>3931fbe82a</td>\n",
       "      <td>Des petites choses comme celles-là font une di...</td>\n",
       "      <td>J'essayais d'accomplir quelque chose.</td>\n",
       "      <td>fr</td>\n",
       "      <td>French</td>\n",
       "      <td>0</td>\n",
       "    </tr>\n",
       "    <tr>\n",
       "      <th>3</th>\n",
       "      <td>5622f0c60b</td>\n",
       "      <td>you know they can't really defend themselves l...</td>\n",
       "      <td>They can't defend themselves because of their ...</td>\n",
       "      <td>en</td>\n",
       "      <td>English</td>\n",
       "      <td>0</td>\n",
       "    </tr>\n",
       "    <tr>\n",
       "      <th>4</th>\n",
       "      <td>86aaa48b45</td>\n",
       "      <td>ในการเล่นบทบาทสมมุติก็เช่นกัน โอกาสที่จะได้แสด...</td>\n",
       "      <td>เด็กสามารถเห็นได้ว่าชาติพันธุ์แตกต่างกันอย่างไร</td>\n",
       "      <td>th</td>\n",
       "      <td>Thai</td>\n",
       "      <td>1</td>\n",
       "    </tr>\n",
       "  </tbody>\n",
       "</table>\n",
       "</div>"
      ],
      "text/plain": [
       "           id                                            premise  \\\n",
       "0  5130fd2cb5  and these comments were considered in formulat...   \n",
       "1  5b72532a0b  These are issues that we wrestle with in pract...   \n",
       "2  3931fbe82a  Des petites choses comme celles-là font une di...   \n",
       "3  5622f0c60b  you know they can't really defend themselves l...   \n",
       "4  86aaa48b45  ในการเล่นบทบาทสมมุติก็เช่นกัน โอกาสที่จะได้แสด...   \n",
       "\n",
       "                                          hypothesis lang_abv language  label  \n",
       "0  The rules developed in the interim were put to...       en  English      0  \n",
       "1  Practice groups are not permitted to work on t...       en  English      2  \n",
       "2              J'essayais d'accomplir quelque chose.       fr   French      0  \n",
       "3  They can't defend themselves because of their ...       en  English      0  \n",
       "4    เด็กสามารถเห็นได้ว่าชาติพันธุ์แตกต่างกันอย่างไร       th     Thai      1  "
      ]
     },
     "execution_count": 2,
     "metadata": {},
     "output_type": "execute_result"
    }
   ],
   "source": [
    "df_train = pd.read_csv(\"/kaggle/input/contradictory-my-dear-watson/train.csv\")\n",
    "print(f\"train size: {len(df_train)}\")\n",
    "df_test = pd.read_csv(\"/kaggle/input/contradictory-my-dear-watson/test.csv\")\n",
    "print(f\"test size: {len(df_test)}\")\n",
    "df_train.head()"
   ]
  },
  {
   "cell_type": "code",
   "execution_count": 3,
   "id": "c3d808ad",
   "metadata": {
    "execution": {
     "iopub.execute_input": "2021-08-21T13:45:50.005770Z",
     "iopub.status.busy": "2021-08-21T13:45:50.004910Z",
     "iopub.status.idle": "2021-08-21T13:45:50.009206Z",
     "shell.execute_reply": "2021-08-21T13:45:50.008567Z",
     "shell.execute_reply.started": "2021-08-21T13:42:53.722593Z"
    },
    "papermill": {
     "duration": 0.021063,
     "end_time": "2021-08-21T13:45:50.009341",
     "exception": false,
     "start_time": "2021-08-21T13:45:49.988278",
     "status": "completed"
    },
    "tags": []
   },
   "outputs": [
    {
     "name": "stdout",
     "output_type": "stream",
     "text": [
      "premise: and these comments were considered in formulating the interim rules.\n",
      "hypothesis: The rules developed in the interim were put together with these comments in mind.\n",
      "label: 0\n"
     ]
    }
   ],
   "source": [
    "print(f\"premise: {df_train.premise.values[0]}\")\n",
    "print(f\"hypothesis: {df_train.hypothesis.values[0]}\")\n",
    "print(f\"label: {df_train.label.values[0]}\")"
   ]
  },
  {
   "cell_type": "code",
   "execution_count": 4,
   "id": "50822909",
   "metadata": {
    "execution": {
     "iopub.execute_input": "2021-08-21T13:45:50.033512Z",
     "iopub.status.busy": "2021-08-21T13:45:50.032718Z",
     "iopub.status.idle": "2021-08-21T13:45:50.036274Z",
     "shell.execute_reply": "2021-08-21T13:45:50.035690Z",
     "shell.execute_reply.started": "2021-08-21T13:42:53.730772Z"
    },
    "papermill": {
     "duration": 0.017591,
     "end_time": "2021-08-21T13:45:50.036422",
     "exception": false,
     "start_time": "2021-08-21T13:45:50.018831",
     "status": "completed"
    },
    "tags": []
   },
   "outputs": [
    {
     "name": "stdout",
     "output_type": "stream",
     "text": [
      "premise: These are issues that we wrestle with in practice groups of law firms, she said. \n",
      "hypothesis: Practice groups are not permitted to work on these issues.\n",
      "label: 2\n"
     ]
    }
   ],
   "source": [
    "print(f\"premise: {df_train.premise.values[1]}\")\n",
    "print(f\"hypothesis: {df_train.hypothesis.values[1]}\")\n",
    "print(f\"label: {df_train.label.values[1]}\")"
   ]
  },
  {
   "cell_type": "code",
   "execution_count": 5,
   "id": "dc0a7ebf",
   "metadata": {
    "execution": {
     "iopub.execute_input": "2021-08-21T13:45:50.060232Z",
     "iopub.status.busy": "2021-08-21T13:45:50.059623Z",
     "iopub.status.idle": "2021-08-21T13:45:51.128751Z",
     "shell.execute_reply": "2021-08-21T13:45:51.128188Z",
     "shell.execute_reply.started": "2021-08-21T13:42:53.744284Z"
    },
    "papermill": {
     "duration": 1.082836,
     "end_time": "2021-08-21T13:45:51.128902",
     "exception": false,
     "start_time": "2021-08-21T13:45:50.046066",
     "status": "completed"
    },
    "tags": []
   },
   "outputs": [],
   "source": [
    "import matplotlib.pyplot as plt\n",
    "import seaborn as sns"
   ]
  },
  {
   "cell_type": "code",
   "execution_count": 6,
   "id": "807f67fe",
   "metadata": {
    "execution": {
     "iopub.execute_input": "2021-08-21T13:45:51.157772Z",
     "iopub.status.busy": "2021-08-21T13:45:51.155312Z",
     "iopub.status.idle": "2021-08-21T13:45:51.346670Z",
     "shell.execute_reply": "2021-08-21T13:45:51.347143Z",
     "shell.execute_reply.started": "2021-08-21T13:42:54.577724Z"
    },
    "papermill": {
     "duration": 0.207958,
     "end_time": "2021-08-21T13:45:51.347342",
     "exception": false,
     "start_time": "2021-08-21T13:45:51.139384",
     "status": "completed"
    },
    "tags": []
   },
   "outputs": [
    {
     "data": {
      "text/plain": [
       "<AxesSubplot:xlabel='label', ylabel='count'>"
      ]
     },
     "execution_count": 6,
     "metadata": {},
     "output_type": "execute_result"
    },
    {
     "data": {
      "image/png": "[encoded data removed]",
      "text/plain": [
       "<Figure size 432x288 with 1 Axes>"
      ]
     },
     "metadata": {
      "needs_background": "light"
     },
     "output_type": "display_data"
    }
   ],
   "source": [
    "sns.countplot(x=\"label\", data=df_train)"
   ]
  },
  {
   "cell_type": "code",
   "execution_count": 7,
   "id": "406b3648",
   "metadata": {
    "execution": {
     "iopub.execute_input": "2021-08-21T13:45:51.386277Z",
     "iopub.status.busy": "2021-08-21T13:45:51.385342Z",
     "iopub.status.idle": "2021-08-21T13:45:51.630692Z",
     "shell.execute_reply": "2021-08-21T13:45:51.631183Z",
     "shell.execute_reply.started": "2021-08-21T13:42:54.751303Z"
    },
    "papermill": {
     "duration": 0.272875,
     "end_time": "2021-08-21T13:45:51.631416",
     "exception": false,
     "start_time": "2021-08-21T13:45:51.358541",
     "status": "completed"
    },
    "tags": []
   },
   "outputs": [
    {
     "data": {
      "text/plain": [
       "<AxesSubplot:xlabel='lang_abv', ylabel='count'>"
      ]
     },
     "execution_count": 7,
     "metadata": {},
     "output_type": "execute_result"
    },
    {
     "data": {
      "image/png": "[encoded data removed]",
      "text/plain": [
       "<Figure size 648x216 with 1 Axes>"
      ]
     },
     "metadata": {
      "needs_background": "light"
     },
     "output_type": "display_data"
    }
   ],
   "source": [
    "plt.figure(figsize=(9, 3))\n",
    "sns.countplot(x=\"lang_abv\", data=df_train)"
   ]
  },
  {
   "cell_type": "code",
   "execution_count": 8,
   "id": "576387fb",
   "metadata": {
    "execution": {
     "iopub.execute_input": "2021-08-21T13:45:51.670801Z",
     "iopub.status.busy": "2021-08-21T13:45:51.666968Z",
     "iopub.status.idle": "2021-08-21T13:45:51.903245Z",
     "shell.execute_reply": "2021-08-21T13:45:51.902597Z",
     "shell.execute_reply.started": "2021-08-21T13:42:54.995194Z"
    },
    "papermill": {
     "duration": 0.259003,
     "end_time": "2021-08-21T13:45:51.903395",
     "exception": false,
     "start_time": "2021-08-21T13:45:51.644392",
     "status": "completed"
    },
    "tags": []
   },
   "outputs": [
    {
     "data": {
      "text/plain": [
       "<AxesSubplot:xlabel='lang_abv', ylabel='count'>"
      ]
     },
     "execution_count": 8,
     "metadata": {},
     "output_type": "execute_result"
    },
    {
     "data": {
      "image/png": "[encoded data removed]",
      "text/plain": [
       "<Figure size 648x216 with 1 Axes>"
      ]
     },
     "metadata": {
      "needs_background": "light"
     },
     "output_type": "display_data"
    }
   ],
   "source": [
    "plt.figure(figsize=(9, 3))\n",
    "sns.countplot(x=\"lang_abv\", data=df_test)"
   ]
  }
 ],
 "metadata": {
  "kernelspec": {
   "display_name": "Python 3",
   "language": "python",
   "name": "python3"
  },
  "language_info": {
   "codemirror_mode": {
    "name": "ipython",
    "version": 3
   },
   "file_extension": ".py",
   "mimetype": "text/x-python",
   "name": "python",
   "nbconvert_exporter": "python",
   "pygments_lexer": "ipython3",
   "version": "3.7.10"
  },
  "papermill": {
   "default_parameters": {},
   "duration": 11.755543,
   "end_time": "2021-08-21T13:45:52.726978",
   "environment_variables": {},
   "exception": null,
   "input_path": "__notebook__.ipynb",
   "output_path": "__notebook__.ipynb",
   "parameters": {},
   "start_time": "2021-08-21T13:45:40.971435",
   "version": "2.3.3"
  }
 },
 "nbformat": 4,
 "nbformat_minor": 5
}
